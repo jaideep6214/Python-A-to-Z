{
  "nbformat": 4,
  "nbformat_minor": 0,
  "metadata": {
    "colab": {
      "name": "Cheat_Code_Heaps.ipynb",
      "provenance": [],
      "authorship_tag": "ABX9TyMnb7ZU4WH9LfSO43WiVeg3",
      "include_colab_link": true
    },
    "kernelspec": {
      "name": "python3",
      "display_name": "Python 3"
    }
  },
  "cells": [
    {
      "cell_type": "markdown",
      "metadata": {
        "id": "view-in-github",
        "colab_type": "text"
      },
      "source": [
        "<a href=\"https://colab.research.google.com/github/jaideep6214/Python-A-to-Z/blob/main/Cheat_Code_Heaps.ipynb\" target=\"_parent\"><img src=\"https://colab.research.google.com/assets/colab-badge.svg\" alt=\"Open In Colab\"/></a>"
      ]
    },
    {
      "cell_type": "code",
      "metadata": {
        "id": "xoaohoeKt8Zw"
      },
      "source": [
        "import heapq # Libraray Used"
      ],
      "execution_count": 3,
      "outputs": []
    },
    {
      "cell_type": "markdown",
      "metadata": {
        "id": "1N66xtwdwUPx"
      },
      "source": [
        "## **Create Heap**"
      ]
    },
    {
      "cell_type": "code",
      "metadata": {
        "id": "q7ym3C7KuMSf",
        "outputId": "2ef83190-9c67-4dbb-9a12-30ba231a1302",
        "colab": {
          "base_uri": "https://localhost:8080/",
          "height": 34
        }
      },
      "source": [
        "li1 = [5, 7, 9, 1, 3] # Min Heap \n",
        "heapq.heapify(li1) \n",
        "print (list(li1)) "
      ],
      "execution_count": 8,
      "outputs": [
        {
          "output_type": "stream",
          "text": [
            "[1, 3, 9, 7, 5]\n"
          ],
          "name": "stdout"
        }
      ]
    },
    {
      "cell_type": "code",
      "metadata": {
        "id": "dEPYa7TPv0Mi",
        "outputId": "f651a32a-eacd-48db-fe0f-0d2438530373",
        "colab": {
          "base_uri": "https://localhost:8080/",
          "height": 34
        }
      },
      "source": [
        "li2 = [5, 7, 9, 1, 3] # Max Heap \n",
        "li2=[i*-1 for i in li2]\n",
        "heapq.heapify(li2) \n",
        "print (list(li2)) "
      ],
      "execution_count": 14,
      "outputs": [
        {
          "output_type": "stream",
          "text": [
            "[-9, -7, -5, -1, -3]\n"
          ],
          "name": "stdout"
        }
      ]
    },
    {
      "cell_type": "markdown",
      "metadata": {
        "id": "0DfVooxHwYcJ"
      },
      "source": [
        "## **Inserting an Element**"
      ]
    },
    {
      "cell_type": "code",
      "metadata": {
        "id": "u4fYSEz0uZEc",
        "outputId": "92679329-1eb1-473f-a3b3-137d12493590",
        "colab": {
          "base_uri": "https://localhost:8080/",
          "height": 34
        }
      },
      "source": [
        "heapq.heappush(li1,4) # Insert an element \n",
        "print (list(li1)) "
      ],
      "execution_count": 15,
      "outputs": [
        {
          "output_type": "stream",
          "text": [
            "[1, 3, 4, 7, 5, 9]\n"
          ],
          "name": "stdout"
        }
      ]
    },
    {
      "cell_type": "code",
      "metadata": {
        "id": "8e8fW7MVwjK6",
        "outputId": "5dc87fdd-2742-4574-82f7-7d1aabf19ed3",
        "colab": {
          "base_uri": "https://localhost:8080/",
          "height": 34
        }
      },
      "source": [
        "heapq.heappush(li2,4*-1) # Insert an element \n",
        "print (list(li2)) "
      ],
      "execution_count": 16,
      "outputs": [
        {
          "output_type": "stream",
          "text": [
            "[-9, -7, -5, -1, -3, -4]\n"
          ],
          "name": "stdout"
        }
      ]
    },
    {
      "cell_type": "markdown",
      "metadata": {
        "id": "2yzSmbyTwplK"
      },
      "source": [
        "## **Poping out Elements**"
      ]
    },
    {
      "cell_type": "code",
      "metadata": {
        "id": "9Z2KCoASvrNX",
        "outputId": "85236815-13e5-4d23-cbe6-1186ace61a13",
        "colab": {
          "base_uri": "https://localhost:8080/",
          "height": 51
        }
      },
      "source": [
        "print (heapq.heappop(li1)) # Pop smallest element\n",
        "print (list(li1)) "
      ],
      "execution_count": 17,
      "outputs": [
        {
          "output_type": "stream",
          "text": [
            "1\n",
            "[3, 5, 4, 7, 9]\n"
          ],
          "name": "stdout"
        }
      ]
    },
    {
      "cell_type": "code",
      "metadata": {
        "id": "CF4UaBasvvGS",
        "outputId": "df32f3d3-5db5-4558-c07f-dcba8312d92f",
        "colab": {
          "base_uri": "https://localhost:8080/",
          "height": 51
        }
      },
      "source": [
        "print (heapq.heappop(li2)*-1) # Pop smallest element\n",
        "print (list(li2)) "
      ],
      "execution_count": 18,
      "outputs": [
        {
          "output_type": "stream",
          "text": [
            "9\n",
            "[-7, -4, -5, -1, -3]\n"
          ],
          "name": "stdout"
        }
      ]
    },
    {
      "cell_type": "code",
      "metadata": {
        "id": "lou25VxSw2Zb",
        "outputId": "3bf44d09-724b-4397-a096-88cf40a4d160",
        "colab": {
          "base_uri": "https://localhost:8080/",
          "height": 102
        }
      },
      "source": [
        "for i in range(len(li2)):\n",
        "  print (heapq.heappop(li2)*-1)\n"
      ],
      "execution_count": 19,
      "outputs": [
        {
          "output_type": "stream",
          "text": [
            "7\n",
            "5\n",
            "4\n",
            "3\n",
            "1\n"
          ],
          "name": "stdout"
        }
      ]
    },
    {
      "cell_type": "markdown",
      "metadata": {
        "id": "XkLxwTcSxZ6Q"
      },
      "source": [
        "## **Efficient Methods**"
      ]
    },
    {
      "cell_type": "code",
      "metadata": {
        "id": "xE4VcCqdxhx5",
        "outputId": "a09bb433-44fe-4b0c-f352-e6e4b0174083",
        "colab": {
          "base_uri": "https://localhost:8080/",
          "height": 34
        }
      },
      "source": [
        "print(li1)"
      ],
      "execution_count": 20,
      "outputs": [
        {
          "output_type": "stream",
          "text": [
            "[3, 5, 4, 7, 9]\n"
          ],
          "name": "stdout"
        }
      ]
    },
    {
      "cell_type": "code",
      "metadata": {
        "id": "T8F-x0h9xBLI",
        "outputId": "3c269f63-cbd6-47e2-dbb3-3326f7377321",
        "colab": {
          "base_uri": "https://localhost:8080/",
          "height": 34
        }
      },
      "source": [
        "heapq.heappushpop(li1, 2) # 2 inserted and then smallest element removed"
      ],
      "execution_count": 21,
      "outputs": [
        {
          "output_type": "execute_result",
          "data": {
            "text/plain": [
              "2"
            ]
          },
          "metadata": {
            "tags": []
          },
          "execution_count": 21
        }
      ]
    },
    {
      "cell_type": "code",
      "metadata": {
        "id": "awiclJ81xf5Z",
        "outputId": "21f1e693-2a3c-4aa5-f8a6-95a7dfe764cd",
        "colab": {
          "base_uri": "https://localhost:8080/",
          "height": 34
        }
      },
      "source": [
        "heapq.heapreplace(li1, 2) # smallest element removed and then 2 inserted"
      ],
      "execution_count": 22,
      "outputs": [
        {
          "output_type": "execute_result",
          "data": {
            "text/plain": [
              "3"
            ]
          },
          "metadata": {
            "tags": []
          },
          "execution_count": 22
        }
      ]
    },
    {
      "cell_type": "markdown",
      "metadata": {
        "id": "y0sWUIFVx3qx"
      },
      "source": [
        "## **N largest and smallest**"
      ]
    },
    {
      "cell_type": "code",
      "metadata": {
        "id": "mSuDtLUuxmFh",
        "outputId": "711c5816-a30b-4a33-d4d3-e2f1716c3591",
        "colab": {
          "base_uri": "https://localhost:8080/",
          "height": 34
        }
      },
      "source": [
        "print(heapq.nlargest(3, li1)) "
      ],
      "execution_count": 23,
      "outputs": [
        {
          "output_type": "stream",
          "text": [
            "[9, 7, 5]\n"
          ],
          "name": "stdout"
        }
      ]
    },
    {
      "cell_type": "code",
      "metadata": {
        "id": "czOMdUZzx7Vj",
        "outputId": "5d9c6756-decf-4ba6-d77e-f8447f0863b9",
        "colab": {
          "base_uri": "https://localhost:8080/",
          "height": 34
        }
      },
      "source": [
        "print(heapq.nsmallest(3, li1)) "
      ],
      "execution_count": 24,
      "outputs": [
        {
          "output_type": "stream",
          "text": [
            "[2, 4, 5]\n"
          ],
          "name": "stdout"
        }
      ]
    },
    {
      "cell_type": "code",
      "metadata": {
        "id": "W-0DISFnx9iO"
      },
      "source": [
        ""
      ],
      "execution_count": null,
      "outputs": []
    }
  ]
}
